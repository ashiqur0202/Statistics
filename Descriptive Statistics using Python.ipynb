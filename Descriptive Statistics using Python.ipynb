{
 "cells": [
  {
   "cell_type": "markdown",
   "id": "77ea5be1-b0dc-47d6-8886-bb27750d3b52",
   "metadata": {},
   "source": [
    "Descriptive statistics is a branch of statistics that deals with summarizing, describing, and representing data. In data science, descriptive statistics is used to provide a quick summary of the characteristics of a dataset, such as measures of central tendency, measures of dispersion, and measures of distribution.\n",
    "\n",
    "Some of the commonly used descriptive statistics in data science are:\n",
    "\n",
    "Mean: It is the average value of a dataset.\n",
    "\n",
    "Median: It is the middle value of a dataset when it is sorted in ascending or descending order.\n",
    "\n",
    "Mode: It is the value that occurs most frequently in a dataset.\n",
    "\n",
    "Range: It is the difference between the largest and smallest values in a dataset.\n",
    "\n",
    "Variance: It is a measure of how spread out the data is from the mean.\n",
    "\n",
    "Standard Deviation: It is the square root of the variance and gives a measure of the spread of the data.\n",
    "\n",
    "Percentiles: It is the value below which a specified percentage of the data falls.\n",
    "\n",
    "Skewness: It is a measure of the asymmetry of a dataset about its mean.\n",
    "\n",
    "Kurtosis: It is a measure of the peakedness of a dataset about its mean.\n",
    "\n",
    "These descriptive statistics provide valuable information about the data that can be used to make informed decisions and drive further analysis."
   ]
  },
  {
   "cell_type": "markdown",
   "id": "56794c1f-c2e6-462d-ac8e-8935f126caed",
   "metadata": {},
   "source": [
    "### Mean"
   ]
  },
  {
   "cell_type": "code",
   "execution_count": 1,
   "id": "fb7462a8-237c-47f7-bc06-c7ab216b602b",
   "metadata": {
    "tags": []
   },
   "outputs": [
    {
     "name": "stdout",
     "output_type": "stream",
     "text": [
      "Mean: 5.5\n"
     ]
    }
   ],
   "source": [
    "import pandas as pd\n",
    "\n",
    "# Create a sample dataset\n",
    "data = [1, 2, 3, 4, 5, 6, 7, 8, 9, 10]\n",
    "\n",
    "# Create a dataframe from the dataset\n",
    "df = pd.DataFrame(data, columns=['Value'])\n",
    "\n",
    "# Calculate the mean of the 'Value' column\n",
    "mean = df['Value'].mean()\n",
    "\n",
    "# Print the mean\n",
    "print('Mean:', mean)\n"
   ]
  },
  {
   "cell_type": "markdown",
   "id": "4f3a026d-f3be-4304-8a38-4c6cc5d03f5d",
   "metadata": {},
   "source": [
    "### Median"
   ]
  },
  {
   "cell_type": "code",
   "execution_count": 2,
   "id": "9027e6ca-f902-44c8-920b-807fe224de74",
   "metadata": {
    "tags": []
   },
   "outputs": [
    {
     "name": "stdout",
     "output_type": "stream",
     "text": [
      "Median: 5.5\n"
     ]
    }
   ],
   "source": [
    "import pandas as pd\n",
    "\n",
    "# Create a sample dataset\n",
    "data = [1, 2, 3, 4, 5, 6, 7, 8, 9, 10]\n",
    "\n",
    "# Create a dataframe from the dataset\n",
    "df = pd.DataFrame(data, columns=['Value'])\n",
    "\n",
    "# Calculate the median of the 'Value' column\n",
    "median = df['Value'].median()\n",
    "\n",
    "# Print the median\n",
    "print('Median:', median)"
   ]
  },
  {
   "cell_type": "markdown",
   "id": "5e5add76-394b-4cf1-a728-705937d01b34",
   "metadata": {},
   "source": [
    "### Mode"
   ]
  },
  {
   "cell_type": "code",
   "execution_count": 5,
   "id": "295da461-78b3-49ed-a87d-7ccf8f99c0e8",
   "metadata": {
    "tags": []
   },
   "outputs": [
    {
     "name": "stdout",
     "output_type": "stream",
     "text": [
      "Mode:  4\n"
     ]
    }
   ],
   "source": [
    "import pandas as pd\n",
    "\n",
    "# create sample data\n",
    "data = [1, 2, 2, 3, 4, 4, 4, 5, 6]\n",
    "\n",
    "# create pandas data frame from data\n",
    "df = pd.DataFrame(data, columns=['Value'])\n",
    "\n",
    "# calculate the mode\n",
    "mode = df['Value'].mode()\n",
    "\n",
    "# print the mode\n",
    "print(\"Mode: \",mode[0])\n"
   ]
  },
  {
   "cell_type": "markdown",
   "id": "f660919b-182d-4c71-987e-5f69dc70de0a",
   "metadata": {},
   "source": [
    "### Range"
   ]
  },
  {
   "cell_type": "code",
   "execution_count": 6,
   "id": "2cd0e9e6-843e-43a8-81a1-c173350273db",
   "metadata": {
    "tags": []
   },
   "outputs": [
    {
     "name": "stdout",
     "output_type": "stream",
     "text": [
      "The range of the data set is: 5\n"
     ]
    }
   ],
   "source": [
    "import pandas as pd\n",
    "\n",
    "# create sample data\n",
    "data = [1, 2, 2, 3, 4, 4, 4, 5, 6]\n",
    "\n",
    "# create pandas data frame from data\n",
    "df = pd.DataFrame(data, columns=['Value'])\n",
    "\n",
    "# calculate the range\n",
    "data_range = df['Value'].max() - df['Value'].min()\n",
    "\n",
    "# print the range\n",
    "print(\"The range of the data set is:\", data_range)\n"
   ]
  },
  {
   "cell_type": "markdown",
   "id": "057e5da1-f001-4735-b2de-61116b541cb2",
   "metadata": {},
   "source": [
    "### Variance"
   ]
  },
  {
   "cell_type": "code",
   "execution_count": 7,
   "id": "e00786b7-c64b-4d0a-8309-244314453f9c",
   "metadata": {
    "tags": []
   },
   "outputs": [
    {
     "name": "stdout",
     "output_type": "stream",
     "text": [
      "The variance of the data set is: 2.5277777777777777\n"
     ]
    }
   ],
   "source": [
    "import pandas as pd\n",
    "import numpy as np\n",
    "\n",
    "# create sample data\n",
    "data = [1, 2, 2, 3, 4, 4, 4, 5, 6]\n",
    "\n",
    "# create pandas data frame from data\n",
    "df = pd.DataFrame(data, columns=['Value'])\n",
    "\n",
    "# calculate the mean\n",
    "mean = df['Value'].mean()\n",
    "\n",
    "# calculate the deviations\n",
    "deviations = df['Value'] - mean\n",
    "\n",
    "# calculate the squared deviations\n",
    "squared_deviations = deviations**2\n",
    "\n",
    "# calculate the variance\n",
    "variance = squared_deviations.sum() / (len(df) - 1)\n",
    "\n",
    "# print the variance\n",
    "print(\"The variance of the data set is:\", variance)"
   ]
  },
  {
   "cell_type": "markdown",
   "id": "a8095137-50d2-421b-a2b1-ab3bffe6ccd9",
   "metadata": {},
   "source": [
    "### Standard Deviation"
   ]
  },
  {
   "cell_type": "code",
   "execution_count": 8,
   "id": "9000c4c6-d018-45b7-b052-2960142ef659",
   "metadata": {
    "tags": []
   },
   "outputs": [
    {
     "name": "stdout",
     "output_type": "stream",
     "text": [
      "3.0276503540974917\n"
     ]
    }
   ],
   "source": [
    "import pandas as pd\n",
    "data = [4, 5, 7, 3, 6, 2, 9, 8, 1, 10]\n",
    "df = pd.DataFrame(data, columns=[\"Value\"])\n",
    "\n",
    "std = df['Value'].std()\n",
    "print(std)\n"
   ]
  },
  {
   "cell_type": "markdown",
   "id": "03f6eb61-5ca5-49a2-9374-d1dd21d470b1",
   "metadata": {},
   "source": [
    "### Percentiles "
   ]
  },
  {
   "cell_type": "code",
   "execution_count": 9,
   "id": "13929f99-8345-439d-adbe-8a2e307b4e07",
   "metadata": {
    "tags": []
   },
   "outputs": [
    {
     "name": "stdout",
     "output_type": "stream",
     "text": [
      "25th percentile:  3.25\n",
      "50th percentile (median):  5.5\n",
      "75th percentile:  7.75\n"
     ]
    }
   ],
   "source": [
    "import pandas as pd\n",
    "data = [4, 5, 7, 3, 6, 2, 9, 8, 1, 10]\n",
    "df = pd.DataFrame(data, columns=[\"Value\"])\n",
    "\n",
    "p25 = df['Value'].quantile(0.25)\n",
    "p50 = df['Value'].quantile(0.50)\n",
    "p75 = df['Value'].quantile(0.75)\n",
    "print(\"25th percentile: \", p25)\n",
    "print(\"50th percentile (median): \", p50)\n",
    "print(\"75th percentile: \", p75)\n"
   ]
  },
  {
   "cell_type": "markdown",
   "id": "b0f33e86-44fa-4ce7-a5f8-3b5fe63beb9c",
   "metadata": {},
   "source": [
    "### Skewness "
   ]
  },
  {
   "cell_type": "code",
   "execution_count": 10,
   "id": "e21d370c-c013-49d0-8afa-24027818ad2b",
   "metadata": {
    "tags": []
   },
   "outputs": [
    {
     "name": "stdout",
     "output_type": "stream",
     "text": [
      "0.0\n"
     ]
    }
   ],
   "source": [
    "import pandas as pd\n",
    "import numpy as np\n",
    "\n",
    "data = [1, 2, 3, 4, 5, 6, 7, 8, 9, 10]\n",
    "df = pd.DataFrame(data, columns=['Values'])\n",
    "\n",
    "skewness = df['Values'].skew()\n",
    "print(skewness)\n"
   ]
  },
  {
   "cell_type": "markdown",
   "id": "5e312fb3-9dca-483f-8100-75e08e63f65c",
   "metadata": {},
   "source": [
    "### Kurtosis "
   ]
  },
  {
   "cell_type": "code",
   "execution_count": 11,
   "id": "14212aae-6560-4663-afa1-b882a4fc40f1",
   "metadata": {
    "tags": []
   },
   "outputs": [
    {
     "name": "stdout",
     "output_type": "stream",
     "text": [
      "-1.2000000000000002\n"
     ]
    }
   ],
   "source": [
    "import pandas as pd\n",
    "\n",
    "data = [10, 20, 30, 40, 50, 60, 70, 80, 90, 100]\n",
    "df = pd.DataFrame(data, columns=['Value'])\n",
    "\n",
    "kurtosis = df['Value'].kurtosis()\n",
    "print(kurtosis)\n"
   ]
  }
 ],
 "metadata": {
  "kernelspec": {
   "display_name": "Python 3 (ipykernel)",
   "language": "python",
   "name": "python3"
  },
  "language_info": {
   "codemirror_mode": {
    "name": "ipython",
    "version": 3
   },
   "file_extension": ".py",
   "mimetype": "text/x-python",
   "name": "python",
   "nbconvert_exporter": "python",
   "pygments_lexer": "ipython3",
   "version": "3.11.1"
  }
 },
 "nbformat": 4,
 "nbformat_minor": 5
}
