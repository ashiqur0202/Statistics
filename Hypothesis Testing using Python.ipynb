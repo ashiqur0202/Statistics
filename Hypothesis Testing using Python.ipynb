{
 "cells": [
  {
   "cell_type": "markdown",
   "id": "95890951-44ab-4baa-a7c2-b4ad27d41c97",
   "metadata": {},
   "source": [
    "### T test"
   ]
  },
  {
   "cell_type": "code",
   "execution_count": 18,
   "id": "4f6dadff-240f-4fa2-b2da-8b4353e9a97f",
   "metadata": {
    "tags": []
   },
   "outputs": [
    {
     "name": "stdout",
     "output_type": "stream",
     "text": [
      "T-statistic:  -5.0\n",
      "P-value:  0.001052825793366539\n"
     ]
    }
   ],
   "source": [
    "import numpy as np\n",
    "import pandas as pd\n",
    "from scipy import stats\n",
    "\n",
    "# Sample data\n",
    "data = {'Group': ['A', 'A', 'A', 'A', 'A', 'B', 'B', 'B', 'B', 'B'],\n",
    "        'Value': [1, 2, 3, 4, 5, 6, 7, 8, 9, 10]}\n",
    "\n",
    "# Convert the data into a pandas data frame\n",
    "df = pd.DataFrame(data)\n",
    "\n",
    "# Perform the t-test\n",
    "t_stat, p_val = stats.ttest_ind(df[df['Group'] == 'A']['Value'], df[df['Group'] == 'B']['Value'])\n",
    "\n",
    "# Print the results\n",
    "print(\"T-statistic: \", t_stat)\n",
    "print(\"P-value: \", p_val)\n"
   ]
  },
  {
   "cell_type": "markdown",
   "id": "39547f39-ae15-4c4f-a1b2-669177c842c8",
   "metadata": {},
   "source": [
    "Finally, we print the t-statistic and p-value, which represent the test statistic and the p-value, respectively. The p-value is used to determine the statistical significance of the results. A small p-value indicates that the difference between the groups is significant, while a large p-value indicates that the difference is not significant."
   ]
  },
  {
   "cell_type": "markdown",
   "id": "6e53ab37-8459-4065-8ba8-27f54a5a799b",
   "metadata": {},
   "source": [
    "### Z test"
   ]
  },
  {
   "cell_type": "code",
   "execution_count": 22,
   "id": "0610fc54-1f66-4936-bbb3-30c1beca781a",
   "metadata": {
    "tags": []
   },
   "outputs": [
    {
     "name": "stdout",
     "output_type": "stream",
     "text": [
      "Z-statistic:  0   -1.486301\n",
      "1   -1.156012\n",
      "2   -0.825723\n",
      "3   -0.495434\n",
      "4   -0.165145\n",
      "5    0.165145\n",
      "6    0.495434\n",
      "7    0.825723\n",
      "8    1.156012\n",
      "9    1.486301\n",
      "Name: Value, dtype: float64\n",
      "P-value:  5\n"
     ]
    }
   ],
   "source": [
    "import numpy as np\n",
    "import pandas as pd\n",
    "from scipy import stats\n",
    "\n",
    "# Sample data\n",
    "data = {'Value': [1, 2, 3, 4, 5, 6, 7, 8, 9, 10]}\n",
    "\n",
    "# Convert the data into a pandas data frame\n",
    "df = pd.DataFrame(data)\n",
    "\n",
    "# The population mean\n",
    "population_mean = 5\n",
    "\n",
    "# Perform the Z-test\n",
    "z_stat, p_val = stats.zscore(df['Value'], ddof=1), population_mean\n",
    "\n",
    "# Print the results\n",
    "print(\"Z-statistic: \", z_stat)\n",
    "print(\"P-value: \", p_val)"
   ]
  },
  {
   "cell_type": "markdown",
   "id": "1fb922a5-07cf-4085-8b33-1a5cabdfe9fa",
   "metadata": {},
   "source": [
    "Finally, we print the Z-statistic and p-value, which represent the test statistic and the p-value, respectively. The p-value is used to determine the statistical significance of the results. A small p-value indicates that the sample mean is significantly different from the population mean, while a large p-value indicates that the sample mean is not significantly different from the population mean."
   ]
  },
  {
   "cell_type": "markdown",
   "id": "d0c8b547-8f86-4596-91a8-4820f89b220d",
   "metadata": {},
   "source": [
    "### ANOVA"
   ]
  },
  {
   "cell_type": "code",
   "execution_count": 17,
   "id": "b8e2f74d-5f6f-4228-beb5-3b84d9a1280b",
   "metadata": {
    "tags": []
   },
   "outputs": [
    {
     "name": "stdout",
     "output_type": "stream",
     "text": [
      "F-value:  50.0\n",
      "P-value:  1.5127924217375409e-06\n"
     ]
    }
   ],
   "source": [
    "import numpy as np\n",
    "import pandas as pd\n",
    "from scipy import stats\n",
    "\n",
    "# Sample data\n",
    "data = {'Group': ['A', 'A', 'A', 'A', 'A', 'B', 'B', 'B', 'B', 'B', 'C', 'C', 'C', 'C', 'C'],\n",
    "        'Value': [1, 2, 3, 4, 5, 6, 7, 8, 9, 10, 11, 12, 13, 14, 15]}\n",
    "\n",
    "# Convert the data into a pandas data frame\n",
    "df = pd.DataFrame(data)\n",
    "\n",
    "# Perform the ANOVA test\n",
    "f_val, p_val = stats.f_oneway(df[df['Group'] == 'A']['Value'], df[df['Group'] == 'B']['Value'], df[df['Group'] == 'C']['Value'])\n",
    "\n",
    "# Print the results\n",
    "print(\"F-value: \", f_val)\n",
    "print(\"P-value: \", p_val)\n"
   ]
  },
  {
   "cell_type": "markdown",
   "id": "00b0a74d-f2bb-4c28-b90d-d6b1ededc7a5",
   "metadata": {},
   "source": [
    "Finally, we print the F-value and P-value, which represent the test statistic and the p-value, respectively. The p-value is used to determine the statistical significance of the results. A small p-value indicates that the difference between the groups is significant, while a large p-value indicates that the difference is not significant."
   ]
  },
  {
   "cell_type": "markdown",
   "id": "6588a733-1f38-4754-9818-c296871f9a99",
   "metadata": {},
   "source": [
    "### Correlation test\n",
    "\n",
    "Categorical variables\n",
    "- Chi-Square test\n",
    "    - Start with a cross table\n",
    "    \n",
    "Continuous variables\n",
    "- Pearson correlation test\n",
    "    - Start with a scatter plot"
   ]
  },
  {
   "cell_type": "code",
   "execution_count": 23,
   "id": "16a1e0ec-91eb-4929-b0bb-342b7470eae4",
   "metadata": {
    "tags": []
   },
   "outputs": [
    {
     "name": "stdout",
     "output_type": "stream",
     "text": [
      "Correlation:  0.9999999999999999\n"
     ]
    }
   ],
   "source": [
    "import numpy as np\n",
    "import pandas as pd\n",
    "\n",
    "# Sample data\n",
    "data = {'X': [1, 2, 3, 4, 5, 6, 7, 8, 9, 10],\n",
    "        'Y': [2, 4, 6, 8, 10, 12, 14, 16, 18, 20]}\n",
    "\n",
    "# Convert the data into a pandas data frame\n",
    "df = pd.DataFrame(data)\n",
    "\n",
    "# Calculate the correlation between X and Y\n",
    "correlation = df['X'].corr(df['Y'])\n",
    "\n",
    "# Print the results\n",
    "print(\"Correlation: \", correlation)\n"
   ]
  },
  {
   "cell_type": "markdown",
   "id": "b8a287c1-0d5e-4ed4-971e-930a287e3a40",
   "metadata": {},
   "source": [
    "Finally, we print the correlation value, which indicates the strength and direction of the relationship between the two variables. A value of 1 indicates a strong positive correlation, a value of -1 indicates a strong negative correlation, and a value close to 0 indicates a weak or no correlation."
   ]
  },
  {
   "cell_type": "markdown",
   "id": "effb7cab-0dd7-450a-857a-15ef4a4c6499",
   "metadata": {},
   "source": [
    "### Chi-Square Test"
   ]
  },
  {
   "cell_type": "code",
   "execution_count": 24,
   "id": "18ca4ed6-495a-45b9-9719-9f709ce66332",
   "metadata": {
    "tags": []
   },
   "outputs": [
    {
     "name": "stdout",
     "output_type": "stream",
     "text": [
      "Chi-Square Statistic:  0.0\n",
      "P-value:  1.0\n",
      "Degrees of Freedom:  1\n"
     ]
    }
   ],
   "source": [
    "import numpy as np\n",
    "import pandas as pd\n",
    "from scipy.stats import chi2_contingency\n",
    "\n",
    "# Sample data\n",
    "data = {'Gender': ['Male', 'Female', 'Male', 'Female', 'Male', 'Female'],\n",
    "        'Smoker': ['Yes', 'No', 'No', 'Yes', 'Yes', 'No']}\n",
    "\n",
    "# Convert the data into a pandas data frame\n",
    "df = pd.DataFrame(data)\n",
    "\n",
    "# Perform the chi-square test\n",
    "chi2, p, dof, ex = chi2_contingency(pd.crosstab(df['Gender'], df['Smoker']))\n",
    "\n",
    "# Print the results\n",
    "print(\"Chi-Square Statistic: \", chi2)\n",
    "print(\"P-value: \", p)\n",
    "print(\"Degrees of Freedom: \", dof)"
   ]
  },
  {
   "cell_type": "markdown",
   "id": "20b05069-3710-4520-8416-f1d7edb64ba7",
   "metadata": {},
   "source": [
    "Finally, we print the results, including the chi-square statistic, the p-value, and the degrees of freedom. If the p-value is less than a specified significance level (e.g. 0.05), we reject the null hypothesis and conclude that there is a significant association between the two variables."
   ]
  }
 ],
 "metadata": {
  "kernelspec": {
   "display_name": "Python 3 (ipykernel)",
   "language": "python",
   "name": "python3"
  },
  "language_info": {
   "codemirror_mode": {
    "name": "ipython",
    "version": 3
   },
   "file_extension": ".py",
   "mimetype": "text/x-python",
   "name": "python",
   "nbconvert_exporter": "python",
   "pygments_lexer": "ipython3",
   "version": "3.11.1"
  }
 },
 "nbformat": 4,
 "nbformat_minor": 5
}
